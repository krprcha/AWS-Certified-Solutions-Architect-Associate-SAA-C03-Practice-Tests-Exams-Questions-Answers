{
 "cells": [
  {
   "cell_type": "code",
   "execution_count": 1,
   "metadata": {},
   "outputs": [],
   "source": [
    "#Load the file\n",
    "with open('README.md') as f:\n",
    "    lines = f.readlines()"
   ]
  },
  {
   "cell_type": "code",
   "execution_count": 2,
   "metadata": {},
   "outputs": [],
   "source": [
    "#load to local dictionary\n",
    "questions = {}\n",
    "\n",
    "i = 0\n",
    "for line in lines:\n",
    "    line = line.strip('\\n')\n",
    "    if line.startswith('###'):\n",
    "        i += 1\n",
    "        question = line.replace('### ', '')\n",
    "        questions[i] = { \n",
    "            'question': question,\n",
    "            'options': [],\n",
    "            'answers': []\n",
    "        }\n",
    "    elif line.startswith('- ['):\n",
    "        questions[i]['options'].append(line.replace('- [ ] ', '').replace('- [x] ', '').strip('.').strip())\n",
    "\n",
    "        if line.startswith('- [x]'):\n",
    "            questions[i]['answers'].append(line.replace('- [x] ', '').strip('.').strip())"
   ]
  },
  {
   "cell_type": "code",
   "execution_count": 3,
   "metadata": {},
   "outputs": [
    {
     "name": "stdout",
     "output_type": "stream",
     "text": [
      "{'question': 'Which of the following are valid statements about Amazon S3? (Choose 2 answers)', 'options': ['Amazon S3 provides read-after-write consistency for any type of PUT or DELETE', 'Consistency is not\\xa0guaranteed for any type of PUT or DELETE', 'A successful response to a PUT request only occurs when a complete object is saved', 'Partially saved objects are immediately readable with a GET after an overwrite PU', 'S3 provides eventual consistency for overwrite PUTS and DELETE'], 'answers': ['A successful response to a PUT request only occurs when a complete object is saved', 'S3 provides eventual consistency for overwrite PUTS and DELETE']}\n"
     ]
    }
   ],
   "source": [
    "print(questions[6])"
   ]
  },
  {
   "cell_type": "code",
   "execution_count": 4,
   "metadata": {},
   "outputs": [],
   "source": [
    "f_questions = open(\"questions.txt\", \"w\")\n",
    "f_answers = open('answers.txt', 'w')\n",
    "\n",
    "for i in questions:\n",
    "    f_questions.write('' + str(i) + '. ' + questions[i]['question'] + '\\n')\n",
    "    \n",
    "    for option in questions[i]['options']:\n",
    "        f_questions.write('- ' + option + '\\n')\n",
    "\n",
    "    f_answers.write(str(i) + '. [\"' + '\",\"'.join(questions[i]['answers']) + '\"]\\n')\n",
    "\n",
    "    f_questions.write('------------------------------------------------------------------------------------------------------------------------------------\\n')\n",
    "\n",
    "f_questions.close()\n",
    "f_answers.close()"
   ]
  },
  {
   "cell_type": "code",
   "execution_count": 5,
   "metadata": {},
   "outputs": [],
   "source": [
    "import json\n",
    "\n",
    "#write json to file\n",
    "with open(\"questions.json\", \"w\") as outfile: \n",
    "    json.dump(questions, outfile)"
   ]
  },
  {
   "cell_type": "code",
   "execution_count": 6,
   "metadata": {},
   "outputs": [],
   "source": [
    "import json\n",
    "\n",
    "# reading the data from the file \n",
    "with open('questions.json') as f_questions: \n",
    "    questions_json = f_questions.read()\n",
    "      \n",
    "# reconstructing the data as a dictionary \n",
    "questions = json.loads(questions_json)\n"
   ]
  },
  {
   "cell_type": "code",
   "execution_count": 7,
   "metadata": {},
   "outputs": [],
   "source": [
    "current_question_index = 1"
   ]
  },
  {
   "cell_type": "code",
   "execution_count": 8,
   "metadata": {},
   "outputs": [
    {
     "name": "stdout",
     "output_type": "stream",
     "text": [
      "1. Which set of Amazon S3 features helps to prevent and recover from accidental data loss?\n",
      "\n",
      "    1. Object lifecycle and service access logging\n",
      "\n",
      "    2. Object versioning and Multi-factor authentication\n",
      "\n",
      "    3. Access controls and server-side encryption\n",
      "\n",
      "    4. Website hosting and Amazon S3 policies\n",
      "\n"
     ]
    }
   ],
   "source": [
    "i = str(current_question_index)\n",
    "\n",
    "print(i + '. ' + questions[i]['question'] + '\\n')\n",
    "\n",
    "option_index = 1\n",
    "for option in questions[i]['options']:\n",
    "    print('    ' + str(option_index) + '. ' + option + '\\n')\n",
    "    option_index += 1\n",
    "\n",
    "current_question_index += 1"
   ]
  },
  {
   "cell_type": "code",
   "execution_count": 9,
   "metadata": {},
   "outputs": [],
   "source": [
    "#Answers\n",
    "answers = {\n",
    "    8: 3\n",
    "}"
   ]
  },
  {
   "cell_type": "code",
   "execution_count": 11,
   "metadata": {},
   "outputs": [
    {
     "name": "stdout",
     "output_type": "stream",
     "text": [
      "8. When should I choose Provisioned IOPS over Standard RDS storage?\n",
      "\n",
      "\u001b[93m   1. If you have batch-oriented workloads\u001b[0m\n",
      "   2. If you use production online transaction processing (OLTP) workloads\n",
      "\u001b[91m   3. If you have workloads that are not sensitive to consistent performance\u001b[0m\n",
      "----------------------------------------------------------------------------------------------------------------------------\n",
      "\n"
     ]
    }
   ],
   "source": [
    "bcolors = { 'HEADER' : '\\033[95m', 'OKBLUE' : '\\033[94m', 'OKCYAN' : '\\033[96m', 'OKGREEN' : '\\033[92m', 'WARNING' : '\\033[93m', 'FAIL' : '\\033[91m', 'ENDC' : '\\033[0m', 'BOLD' : '\\033[1m', 'UNDERLINE' : '\\033[4m' }\n",
    "\n",
    "#Convert single entries into array\n",
    "for ans in answers:\n",
    "    if type(answers[ans]) is int:\n",
    "        answers[ans] = [answers[ans]]\n",
    "\n",
    "for i_answer in answers:\n",
    "    answer_indexes = answers[i_answer]\n",
    "\n",
    "    print(str(i_answer) + '. ' + questions[str(i_answer)]['question'] + '\\n')\n",
    "\n",
    "    option_index = 1\n",
    "    for option in questions[str(i_answer)]['options']:\n",
    "        actual_answers = questions[str(i_answer)]['answers']\n",
    "\n",
    "        if (option_index in answer_indexes) and (option in actual_answers):\n",
    "            print(bcolors['OKGREEN'] + '   ' + str(option_index) + '. ' + option + bcolors['ENDC'])\n",
    "        elif (option in actual_answers) and (option_index not in answer_indexes):\n",
    "            print(bcolors['WARNING'] + '   ' + str(option_index) + '. ' + option + bcolors['ENDC'])\n",
    "        elif (option_index in answer_indexes) and (option not in actual_answers):\n",
    "            print(bcolors['FAIL'] + '   ' + str(option_index) + '. ' + option + bcolors['ENDC'])\n",
    "        else:\n",
    "            print('   ' + str(option_index) + '. ' + option)\n",
    "        \n",
    "        option_index += 1\n",
    "    print('----------------------------------------------------------------------------------------------------------------------------\\n')"
   ]
  },
  {
   "cell_type": "code",
   "execution_count": 165,
   "metadata": {},
   "outputs": [
    {
     "name": "stdout",
     "output_type": "stream",
     "text": [
      "\u001b[92mSUCCESS: The user account has reached the maximum EC2 instance limit\u001b[0m\n"
     ]
    }
   ],
   "source": [
    "answer_option = 3\n",
    "\n",
    "\n",
    "i = str(current_question_index)\n",
    "if questions[i]['options'][answer_option - 1] == questions[i]['answer']:\n",
    "    print(bcolors['OKGREEN'] + 'SUCCESS: ' + questions[i]['answer'] + bcolors['ENDC'])\n",
    "else:\n",
    "    print(bcolors['FAIL'] + '*** WARNING ***' + questions[i]['answer'] + bcolors['ENDC'])\n",
    "\n",
    "current_question_index += 1"
   ]
  }
 ],
 "metadata": {
  "kernelspec": {
   "display_name": "Python 3",
   "language": "python",
   "name": "python3"
  },
  "language_info": {
   "codemirror_mode": {
    "name": "ipython",
    "version": 3
   },
   "file_extension": ".py",
   "mimetype": "text/x-python",
   "name": "python",
   "nbconvert_exporter": "python",
   "pygments_lexer": "ipython3",
   "version": "3.9.6"
  }
 },
 "nbformat": 4,
 "nbformat_minor": 2
}
